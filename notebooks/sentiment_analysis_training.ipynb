{
 "cells": [
  {
   "cell_type": "markdown",
   "metadata": {},
   "source": [
    "# HexaCiphers - Sentiment Analysis Training\n",
    "\n",
    "This notebook demonstrates training a sentiment analysis model for detecting anti-India campaigns.\n",
    "\n",
    "## Objectives\n",
    "- Train a sentiment classifier using HuggingFace transformers\n",
    "- Fine-tune BERT/IndicBERT for Indian context\n",
    "- Evaluate model performance on test data"
   ]
  },
  {
   "cell_type": "code",
   "execution_count": null,
   "metadata": {},
   "outputs": [],
   "source": [
    "# Install required packages\n",
    "!pip install transformers torch datasets sklearn matplotlib seaborn"
   ]
  },
  {
   "cell_type": "code",
   "execution_count": null,
   "metadata": {},
   "outputs": [],
   "source": [
    "import pandas as pd\n",
    "import numpy as np\n",
    "import torch\n",
    "from transformers import AutoTokenizer, AutoModelForSequenceClassification, TrainingArguments, Trainer\n",
    "from datasets import Dataset\n",
    "from sklearn.metrics import accuracy_score, classification_report\n",
    "import matplotlib.pyplot as plt\n",
    "import seaborn as sns\n",
    "\n",
    "# Set random seeds for reproducibility\n",
    "torch.manual_seed(42)\n",
    "np.random.seed(42)"
   ]
  },
  {
   "cell_type": "markdown",
   "metadata": {},
   "source": [
    "## 1. Data Preparation\n",
    "\n",
    "Create sample dataset for training. In production, you would use real labeled data."
   ]
  },
  {
   "cell_type": "code",
   "execution_count": null,
   "metadata": {},
   "outputs": [],
   "source": [
    "# Sample training data - replace with real dataset\n",
    "sample_data = {\n",
    "    'text': [\n",
    "        \"India is making great progress in technology\",\n",
    "        \"Proud to be Indian, great culture and heritage\",\n",
    "        \"Digital India initiative is transforming the country\",\n",
    "        \"Boycott India, spreading fake news about the country\",\n",
    "        \"Anti-India propaganda on social media platforms\",\n",
    "        \"India's policies are destroying the economy\",\n",
    "        \"The weather is nice today\",\n",
    "        \"Just had lunch with friends\",\n",
    "        \"Working from home is comfortable\"\n",
    "    ],\n",
    "    'label': [\n",
    "        2,  # Pro-India\n",
    "        2,  # Pro-India  \n",
    "        2,  # Pro-India\n",
    "        0,  # Anti-India\n",
    "        0,  # Anti-India\n",
    "        0,  # Anti-India\n",
    "        1,  # Neutral\n",
    "        1,  # Neutral\n",
    "        1   # Neutral\n",
    "    ]\n",
    "}\n",
    "\n",
    "# Create DataFrame\n",
    "df = pd.DataFrame(sample_data)\n",
    "print(\"Sample dataset:\")\n",
    "print(df)\n",
    "print(f\"\\nLabel distribution:\")\n",
    "print(df['label'].value_counts())"
   ]
  },
  {
   "cell_type": "markdown",
   "metadata": {},
   "source": [
    "## 2. Model Setup\n",
    "\n",
    "Load pre-trained BERT model and tokenizer."
   ]
  },
  {
   "cell_type": "code",
   "execution_count": null,
   "metadata": {},
   "outputs": [],
   "source": [
    "# Model configuration\n",
    "MODEL_NAME = \"bert-base-multilingual-cased\"\n",
    "NUM_LABELS = 3  # Anti-India, Neutral, Pro-India\n",
    "\n",
    "# Load tokenizer and model\n",
    "tokenizer = AutoTokenizer.from_pretrained(MODEL_NAME)\n",
    "model = AutoModelForSequenceClassification.from_pretrained(\n",
    "    MODEL_NAME, \n",
    "    num_labels=NUM_LABELS\n",
    ")\n",
    "\n",
    "print(f\"Loaded model: {MODEL_NAME}\")\n",
    "print(f\"Number of parameters: {model.num_parameters():,}\")"
   ]
  },
  {
   "cell_type": "markdown",
   "metadata": {},
   "source": [
    "## 3. Data Preprocessing"
   ]
  },
  {
   "cell_type": "code",
   "execution_count": null,
   "metadata": {},
   "outputs": [],
   "source": [
    "def tokenize_function(examples):\n",
    "    return tokenizer(examples['text'], truncation=True, padding=True, max_length=512)\n",
    "\n",
    "# Create datasets\n",
    "train_dataset = Dataset.from_pandas(df)\n",
    "train_dataset = train_dataset.map(tokenize_function, batched=True)\n",
    "train_dataset = train_dataset.rename_column('label', 'labels')\n",
    "\n",
    "print(\"Tokenized dataset:\")\n",
    "print(train_dataset)"
   ]
  },
  {
   "cell_type": "markdown",
   "metadata": {},
   "source": [
    "## 4. Training Configuration"
   ]
  },
  {
   "cell_type": "code",
   "execution_count": null,
   "metadata": {},
   "outputs": [],
   "source": [
    "# Training arguments\n",
    "training_args = TrainingArguments(\n",
    "    output_dir='./results',\n",
    "    num_train_epochs=3,\n",
    "    per_device_train_batch_size=2,\n",
    "    per_device_eval_batch_size=2,\n",
    "    warmup_steps=100,\n",
    "    weight_decay=0.01,\n",
    "    logging_dir='./logs',\n",
    "    logging_steps=10,\n",
    "    save_strategy=\"epoch\",\n",
    "    evaluation_strategy=\"epoch\",\n",
    "    load_best_model_at_end=True,\n",
    ")\n",
    "\n",
    "# Metrics function\n",
    "def compute_metrics(eval_pred):\n",
    "    predictions, labels = eval_pred\n",
    "    predictions = np.argmax(predictions, axis=1)\n",
    "    return {'accuracy': accuracy_score(labels, predictions)}\n",
    "\n",
    "# Create trainer\n",
    "trainer = Trainer(\n",
    "    model=model,\n",
    "    args=training_args,\n",
    "    train_dataset=train_dataset,\n",
    "    eval_dataset=train_dataset,  # In practice, use separate validation set\n",
    "    compute_metrics=compute_metrics,\n",
    ")\n",
    "\n",
    "print(\"Training setup complete\")"
   ]
  },
  {
   "cell_type": "markdown",
   "metadata": {},
   "source": [
    "## 5. Model Training\n",
    "\n",
    "**Note**: This is a demonstration. In production, you would need a larger, properly labeled dataset."
   ]
  },
  {
   "cell_type": "code",
   "execution_count": null,
   "metadata": {},
   "outputs": [],
   "source": [
    "# Train the model\n",
    "print(\"Starting training...\")\n",
    "trainer.train()\n",
    "print(\"Training completed!\")"
   ]
  },
  {
   "cell_type": "markdown",
   "metadata": {},
   "source": [
    "## 6. Model Evaluation"
   ]
  },
  {
   "cell_type": "code",
   "execution_count": null,
   "metadata": {},
   "outputs": [],
   "source": [
    "# Test the model with sample inputs\n",
    "test_texts = [\n",
    "    \"India is a beautiful country with rich culture\",\n",
    "    \"Boycott Indian products, spread the message\",\n",
    "    \"The weather forecast for tomorrow\",\n",
    "    \"Proud of India's achievements in space technology\",\n",
    "    \"Anti-India propaganda must be stopped\"\n",
    "]\n",
    "\n",
    "# Tokenize test texts\n",
    "test_encodings = tokenizer(test_texts, truncation=True, padding=True, return_tensors='pt')\n",
    "\n",
    "# Make predictions\n",
    "model.eval()\n",
    "with torch.no_grad():\n",
    "    outputs = model(**test_encodings)\n",
    "    predictions = torch.nn.functional.softmax(outputs.logits, dim=-1)\n",
    "\n",
    "# Label mapping\n",
    "label_map = {0: 'Anti-India', 1: 'Neutral', 2: 'Pro-India'}\n",
    "\n",
    "# Display results\n",
    "print(\"\\nTest Results:\")\n",
    "print(\"-\" * 50)\n",
    "for i, text in enumerate(test_texts):\n",
    "    pred_label = torch.argmax(predictions[i]).item()\n",
    "    confidence = predictions[i][pred_label].item()\n",
    "    print(f\"Text: {text}\")\n",
    "    print(f\"Prediction: {label_map[pred_label]} (confidence: {confidence:.3f})\")\n",
    "    print(\"-\" * 50)"
   ]
  },
  {
   "cell_type": "markdown",
   "metadata": {},
   "source": [
    "## 7. Save Model"
   ]
  },
  {
   "cell_type": "code",
   "execution_count": null,
   "metadata": {},
   "outputs": [],
   "source": [
    "# Save the fine-tuned model\n",
    "model.save_pretrained('./models/sentiment_classifier')\n",
    "tokenizer.save_pretrained('./models/sentiment_classifier')\n",
    "\n",
    "print(\"Model saved to ./models/sentiment_classifier\")"
   ]
  },
  {
   "cell_type": "markdown",
   "metadata": {},
   "source": [
    "## 8. Visualization"
   ]
  },
  {
   "cell_type": "code",
   "execution_count": null,
   "metadata": {},
   "outputs": [],
   "source": [
    "# Visualize prediction confidence\n",
    "plt.figure(figsize=(12, 6))\n",
    "\n",
    "# Create confidence matrix\n",
    "conf_matrix = predictions.numpy()\n",
    "labels = [label_map[i] for i in range(3)]\n",
    "\n",
    "# Heatmap\n",
    "sns.heatmap(conf_matrix, \n",
    "            xticklabels=labels, \n",
    "            yticklabels=[f\"Text {i+1}\" for i in range(len(test_texts))],\n",
    "            annot=True, \n",
    "            fmt='.3f', \n",
    "            cmap='Blues')\n",
    "\n",
    "plt.title('Prediction Confidence Matrix')\n",
    "plt.xlabel('Predicted Class')\n",
    "plt.ylabel('Test Samples')\n",
    "plt.tight_layout()\n",
    "plt.show()"
   ]
  },
  {
   "cell_type": "markdown",
   "metadata": {},
   "source": [
    "## Next Steps\n",
    "\n",
    "1. **Collect Real Data**: Gather labeled social media posts for training\n",
    "2. **Data Augmentation**: Use techniques to increase dataset size\n",
    "3. **Cross-validation**: Implement proper train/validation/test splits\n",
    "4. **Hyperparameter Tuning**: Optimize learning rate, batch size, etc.\n",
    "5. **Multi-language Support**: Train on Hindi, Bengali, and other Indian languages\n",
    "6. **Deployment**: Integrate trained model into the HexaCiphers backend"
   ]
  }
 ],
 "metadata": {
  "kernelspec": {
   "display_name": "Python 3",
   "language": "python",
   "name": "python3"
  },
  "language_info": {
   "codemirror_mode": {
    "name": "ipython",
    "version": 3
   },
   "file_extension": ".py",
   "mimetype": "text/x-python",
   "name": "python",
   "nbconvert_exporter": "python",
   "pygments_lexer": "ipython3",
   "version": "3.9.0"
  }
 },
 "nbformat": 4,
 "nbformat_minor": 4
}